{
 "cells": [
  {
   "cell_type": "code",
   "execution_count": 1,
   "id": "5b1c786e",
   "metadata": {},
   "outputs": [],
   "source": [
    "import numpy as np\n",
    "import pandas as pd\n",
    "import matplotlib.pyplot as plt\n",
    "import random\n",
    "import datetime\n",
    "from sklearn.model_selection import train_test_split\n",
    "import xgboost as xgb\n",
    "from xgboost import XGBClassifier"
   ]
  },
  {
   "cell_type": "code",
   "execution_count": 2,
   "id": "5b966d01",
   "metadata": {},
   "outputs": [],
   "source": [
    "dataset = pd.read_csv(\"dataset_2.csv\")"
   ]
  },
  {
   "cell_type": "code",
   "execution_count": 3,
   "id": "bd7bb25c",
   "metadata": {},
   "outputs": [
    {
     "data": {
      "text/html": [
       "<div>\n",
       "<style scoped>\n",
       "    .dataframe tbody tr th:only-of-type {\n",
       "        vertical-align: middle;\n",
       "    }\n",
       "\n",
       "    .dataframe tbody tr th {\n",
       "        vertical-align: top;\n",
       "    }\n",
       "\n",
       "    .dataframe thead th {\n",
       "        text-align: right;\n",
       "    }\n",
       "</style>\n",
       "<table border=\"1\" class=\"dataframe\">\n",
       "  <thead>\n",
       "    <tr style=\"text-align: right;\">\n",
       "      <th></th>\n",
       "      <th>Unnamed: 0</th>\n",
       "      <th>body_temp</th>\n",
       "      <th>heart_rate</th>\n",
       "      <th>pressure</th>\n",
       "      <th>gyroX</th>\n",
       "      <th>gyroY:</th>\n",
       "      <th>gyroZ</th>\n",
       "      <th>mgr</th>\n",
       "      <th>fall_accident</th>\n",
       "      <th>cardiac_arrest</th>\n",
       "      <th>walkingAsymmetry</th>\n",
       "      <th>Respiratory Rate</th>\n",
       "    </tr>\n",
       "  </thead>\n",
       "  <tbody>\n",
       "    <tr>\n",
       "      <th>0</th>\n",
       "      <td>0</td>\n",
       "      <td>37.7</td>\n",
       "      <td>43</td>\n",
       "      <td>158743.085</td>\n",
       "      <td>0.00</td>\n",
       "      <td>0.00</td>\n",
       "      <td>0.00</td>\n",
       "      <td>7905850400</td>\n",
       "      <td>0</td>\n",
       "      <td>0</td>\n",
       "      <td>0</td>\n",
       "      <td>20</td>\n",
       "    </tr>\n",
       "    <tr>\n",
       "      <th>1</th>\n",
       "      <td>1</td>\n",
       "      <td>35.5</td>\n",
       "      <td>108</td>\n",
       "      <td>208412.088</td>\n",
       "      <td>1.49</td>\n",
       "      <td>5.68</td>\n",
       "      <td>0.77</td>\n",
       "      <td>5345941270</td>\n",
       "      <td>0</td>\n",
       "      <td>0</td>\n",
       "      <td>0</td>\n",
       "      <td>19</td>\n",
       "    </tr>\n",
       "    <tr>\n",
       "      <th>2</th>\n",
       "      <td>2</td>\n",
       "      <td>36.7</td>\n",
       "      <td>119</td>\n",
       "      <td>149244.192</td>\n",
       "      <td>5.21</td>\n",
       "      <td>2.86</td>\n",
       "      <td>2.35</td>\n",
       "      <td>5117941238</td>\n",
       "      <td>0</td>\n",
       "      <td>0</td>\n",
       "      <td>0</td>\n",
       "      <td>25</td>\n",
       "    </tr>\n",
       "    <tr>\n",
       "      <th>3</th>\n",
       "      <td>3</td>\n",
       "      <td>35.4</td>\n",
       "      <td>104</td>\n",
       "      <td>132396.222</td>\n",
       "      <td>3.85</td>\n",
       "      <td>6.21</td>\n",
       "      <td>5.82</td>\n",
       "      <td>7469344503</td>\n",
       "      <td>0</td>\n",
       "      <td>0</td>\n",
       "      <td>0</td>\n",
       "      <td>20</td>\n",
       "    </tr>\n",
       "    <tr>\n",
       "      <th>4</th>\n",
       "      <td>4</td>\n",
       "      <td>36.3</td>\n",
       "      <td>72</td>\n",
       "      <td>175302.606</td>\n",
       "      <td>0.00</td>\n",
       "      <td>0.00</td>\n",
       "      <td>0.00</td>\n",
       "      <td>8139834006</td>\n",
       "      <td>1</td>\n",
       "      <td>0</td>\n",
       "      <td>0</td>\n",
       "      <td>18</td>\n",
       "    </tr>\n",
       "  </tbody>\n",
       "</table>\n",
       "</div>"
      ],
      "text/plain": [
       "   Unnamed: 0  body_temp  heart_rate    pressure  gyroX  gyroY:  gyroZ  \\\n",
       "0           0       37.7          43  158743.085   0.00    0.00   0.00   \n",
       "1           1       35.5         108  208412.088   1.49    5.68   0.77   \n",
       "2           2       36.7         119  149244.192   5.21    2.86   2.35   \n",
       "3           3       35.4         104  132396.222   3.85    6.21   5.82   \n",
       "4           4       36.3          72  175302.606   0.00    0.00   0.00   \n",
       "\n",
       "          mgr  fall_accident  cardiac_arrest  walkingAsymmetry  \\\n",
       "0  7905850400              0               0                 0   \n",
       "1  5345941270              0               0                 0   \n",
       "2  5117941238              0               0                 0   \n",
       "3  7469344503              0               0                 0   \n",
       "4  8139834006              1               0                 0   \n",
       "\n",
       "   Respiratory Rate  \n",
       "0                20  \n",
       "1                19  \n",
       "2                25  \n",
       "3                20  \n",
       "4                18  "
      ]
     },
     "execution_count": 3,
     "metadata": {},
     "output_type": "execute_result"
    }
   ],
   "source": [
    "dataset.head()"
   ]
  },
  {
   "cell_type": "code",
   "execution_count": 9,
   "id": "f05a4bdd",
   "metadata": {},
   "outputs": [],
   "source": [
    "X = dataset.iloc[:, :8]\n",
    "# Only detecting cardiac arrest\n",
    "y = dataset.iloc[:, 9:10]"
   ]
  },
  {
   "cell_type": "code",
   "execution_count": 10,
   "id": "f8aeba0c",
   "metadata": {},
   "outputs": [
    {
     "data": {
      "text/html": [
       "<div>\n",
       "<style scoped>\n",
       "    .dataframe tbody tr th:only-of-type {\n",
       "        vertical-align: middle;\n",
       "    }\n",
       "\n",
       "    .dataframe tbody tr th {\n",
       "        vertical-align: top;\n",
       "    }\n",
       "\n",
       "    .dataframe thead th {\n",
       "        text-align: right;\n",
       "    }\n",
       "</style>\n",
       "<table border=\"1\" class=\"dataframe\">\n",
       "  <thead>\n",
       "    <tr style=\"text-align: right;\">\n",
       "      <th></th>\n",
       "      <th>Unnamed: 0</th>\n",
       "      <th>body_temp</th>\n",
       "      <th>heart_rate</th>\n",
       "      <th>pressure</th>\n",
       "      <th>gyroX</th>\n",
       "      <th>gyroY:</th>\n",
       "      <th>gyroZ</th>\n",
       "      <th>mgr</th>\n",
       "    </tr>\n",
       "  </thead>\n",
       "  <tbody>\n",
       "    <tr>\n",
       "      <th>0</th>\n",
       "      <td>0</td>\n",
       "      <td>37.7</td>\n",
       "      <td>43</td>\n",
       "      <td>158743.085</td>\n",
       "      <td>0.00</td>\n",
       "      <td>0.00</td>\n",
       "      <td>0.00</td>\n",
       "      <td>7905850400</td>\n",
       "    </tr>\n",
       "    <tr>\n",
       "      <th>1</th>\n",
       "      <td>1</td>\n",
       "      <td>35.5</td>\n",
       "      <td>108</td>\n",
       "      <td>208412.088</td>\n",
       "      <td>1.49</td>\n",
       "      <td>5.68</td>\n",
       "      <td>0.77</td>\n",
       "      <td>5345941270</td>\n",
       "    </tr>\n",
       "    <tr>\n",
       "      <th>2</th>\n",
       "      <td>2</td>\n",
       "      <td>36.7</td>\n",
       "      <td>119</td>\n",
       "      <td>149244.192</td>\n",
       "      <td>5.21</td>\n",
       "      <td>2.86</td>\n",
       "      <td>2.35</td>\n",
       "      <td>5117941238</td>\n",
       "    </tr>\n",
       "    <tr>\n",
       "      <th>3</th>\n",
       "      <td>3</td>\n",
       "      <td>35.4</td>\n",
       "      <td>104</td>\n",
       "      <td>132396.222</td>\n",
       "      <td>3.85</td>\n",
       "      <td>6.21</td>\n",
       "      <td>5.82</td>\n",
       "      <td>7469344503</td>\n",
       "    </tr>\n",
       "    <tr>\n",
       "      <th>4</th>\n",
       "      <td>4</td>\n",
       "      <td>36.3</td>\n",
       "      <td>72</td>\n",
       "      <td>175302.606</td>\n",
       "      <td>0.00</td>\n",
       "      <td>0.00</td>\n",
       "      <td>0.00</td>\n",
       "      <td>8139834006</td>\n",
       "    </tr>\n",
       "  </tbody>\n",
       "</table>\n",
       "</div>"
      ],
      "text/plain": [
       "   Unnamed: 0  body_temp  heart_rate    pressure  gyroX  gyroY:  gyroZ  \\\n",
       "0           0       37.7          43  158743.085   0.00    0.00   0.00   \n",
       "1           1       35.5         108  208412.088   1.49    5.68   0.77   \n",
       "2           2       36.7         119  149244.192   5.21    2.86   2.35   \n",
       "3           3       35.4         104  132396.222   3.85    6.21   5.82   \n",
       "4           4       36.3          72  175302.606   0.00    0.00   0.00   \n",
       "\n",
       "          mgr  \n",
       "0  7905850400  \n",
       "1  5345941270  \n",
       "2  5117941238  \n",
       "3  7469344503  \n",
       "4  8139834006  "
      ]
     },
     "execution_count": 10,
     "metadata": {},
     "output_type": "execute_result"
    }
   ],
   "source": [
    "X.head()"
   ]
  },
  {
   "cell_type": "code",
   "execution_count": 11,
   "id": "f56d9183",
   "metadata": {
    "scrolled": true
   },
   "outputs": [
    {
     "data": {
      "text/html": [
       "<div>\n",
       "<style scoped>\n",
       "    .dataframe tbody tr th:only-of-type {\n",
       "        vertical-align: middle;\n",
       "    }\n",
       "\n",
       "    .dataframe tbody tr th {\n",
       "        vertical-align: top;\n",
       "    }\n",
       "\n",
       "    .dataframe thead th {\n",
       "        text-align: right;\n",
       "    }\n",
       "</style>\n",
       "<table border=\"1\" class=\"dataframe\">\n",
       "  <thead>\n",
       "    <tr style=\"text-align: right;\">\n",
       "      <th></th>\n",
       "      <th>cardiac_arrest</th>\n",
       "    </tr>\n",
       "  </thead>\n",
       "  <tbody>\n",
       "    <tr>\n",
       "      <th>0</th>\n",
       "      <td>0</td>\n",
       "    </tr>\n",
       "    <tr>\n",
       "      <th>1</th>\n",
       "      <td>0</td>\n",
       "    </tr>\n",
       "    <tr>\n",
       "      <th>2</th>\n",
       "      <td>0</td>\n",
       "    </tr>\n",
       "    <tr>\n",
       "      <th>3</th>\n",
       "      <td>0</td>\n",
       "    </tr>\n",
       "    <tr>\n",
       "      <th>4</th>\n",
       "      <td>0</td>\n",
       "    </tr>\n",
       "  </tbody>\n",
       "</table>\n",
       "</div>"
      ],
      "text/plain": [
       "   cardiac_arrest\n",
       "0               0\n",
       "1               0\n",
       "2               0\n",
       "3               0\n",
       "4               0"
      ]
     },
     "execution_count": 11,
     "metadata": {},
     "output_type": "execute_result"
    }
   ],
   "source": [
    "y.head()"
   ]
  },
  {
   "cell_type": "code",
   "execution_count": 12,
   "id": "c1c22393",
   "metadata": {},
   "outputs": [],
   "source": [
    "# Splitting the dataset into training set and test set\n",
    "X_train, X_test, y_train, y_test = train_test_split(X, y, test_size = 0.2, random_state = 1)"
   ]
  },
  {
   "cell_type": "code",
   "execution_count": 13,
   "id": "e593c8a7",
   "metadata": {},
   "outputs": [],
   "source": [
    "# Performing feature scaling\n",
    "from sklearn.preprocessing import StandardScaler\n",
    "sc = StandardScaler()\n",
    "X_train = sc.fit_transform(X_train)\n",
    "X_test = sc.transform(X_test)"
   ]
  },
  {
   "cell_type": "code",
   "execution_count": 14,
   "id": "9cfe8bc8",
   "metadata": {},
   "outputs": [],
   "source": [
    "# Creating the training and testing matrix to run the xgboost model\n",
    "D_train = xgb.DMatrix(X_train, label = y_train)\n",
    "D_test = xgb.DMatrix(X_test, label = y_test)"
   ]
  },
  {
   "cell_type": "code",
   "execution_count": 15,
   "id": "2ab4caf9",
   "metadata": {},
   "outputs": [],
   "source": [
    "# Params based on grid search\n",
    "param = {\n",
    "    'eta': 0.3, \n",
    "    'max_depth': 8,  \n",
    "    'objective': 'multi:softprob',  \n",
    "    'num_class': 3,\n",
    "    'gamma' : 0.4,\n",
    "    'colsample_bytree': 0.7,\n",
    "    'min_child_weight': 1\n",
    "    } \n",
    "\n",
    "steps = 20  # The number of training iterations"
   ]
  },
  {
   "cell_type": "code",
   "execution_count": 16,
   "id": "647425db",
   "metadata": {},
   "outputs": [],
   "source": [
    "model = xgb.train(param, D_train, steps)"
   ]
  },
  {
   "cell_type": "code",
   "execution_count": 18,
   "id": "532c3dea",
   "metadata": {},
   "outputs": [
    {
     "name": "stdout",
     "output_type": "stream",
     "text": [
      "Precision = 0.7837072611282345\n",
      "Recall = 0.6659121395036888\n",
      "Accuracy = 0.9945\n"
     ]
    }
   ],
   "source": [
    "from sklearn.metrics import precision_score, recall_score, accuracy_score\n",
    "predictions = model.predict(D_test, ntree_limit=model.best_ntree_limit)\n",
    "\n",
    "prediction_matrix = np.asarray([np.argmax(line) for line in predictions])\n",
    "\n",
    "print(\"Precision = {}\".format(precision_score(y_test, prediction_matrix, average='macro')))\n",
    "print(\"Recall = {}\".format(recall_score(y_test, prediction_matrix, average='macro')))\n",
    "print(\"Accuracy = {}\".format(accuracy_score(y_test, prediction_matrix)))"
   ]
  },
  {
   "cell_type": "code",
   "execution_count": 20,
   "id": "10687879",
   "metadata": {},
   "outputs": [
    {
     "name": "stdout",
     "output_type": "stream",
     "text": [
      "[[0.9974778  0.00136857 0.00115359]\n",
      " [0.9974909  0.00135555 0.0011536 ]\n",
      " [0.99749446 0.0013896  0.00111599]\n",
      " ...\n",
      " [0.9974778  0.00136857 0.00115359]\n",
      " [0.99758744 0.0012965  0.0011161 ]\n",
      " [0.9975374  0.0013466  0.00111604]]\n"
     ]
    }
   ],
   "source": [
    "print(predictions)"
   ]
  },
  {
   "cell_type": "code",
   "execution_count": null,
   "id": "1048c5d8",
   "metadata": {},
   "outputs": [],
   "source": []
  }
 ],
 "metadata": {
  "kernelspec": {
   "display_name": "Python 3 (ipykernel)",
   "language": "python",
   "name": "python3"
  },
  "language_info": {
   "codemirror_mode": {
    "name": "ipython",
    "version": 3
   },
   "file_extension": ".py",
   "mimetype": "text/x-python",
   "name": "python",
   "nbconvert_exporter": "python",
   "pygments_lexer": "ipython3",
   "version": "3.9.12"
  }
 },
 "nbformat": 4,
 "nbformat_minor": 5
}
