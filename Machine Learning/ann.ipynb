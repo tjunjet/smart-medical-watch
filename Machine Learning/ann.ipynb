{
 "cells": [
  {
   "cell_type": "code",
   "execution_count": 1,
   "id": "938b86bb",
   "metadata": {},
   "outputs": [],
   "source": [
    "# Importing the relevant libraries\n",
    "\n",
    "import numpy as np\n",
    "import pandas as pd\n",
    "import matplotlib.pyplot as plt\n",
    "#import tensorflow as tf"
   ]
  },
  {
   "cell_type": "code",
   "execution_count": 2,
   "id": "78a0c43b",
   "metadata": {},
   "outputs": [],
   "source": [
    "# Data Preprocessing\n",
    "dataset = pd.read_csv(\"dataset_2.csv\")"
   ]
  },
  {
   "cell_type": "code",
   "execution_count": 3,
   "id": "ed026dfb",
   "metadata": {},
   "outputs": [
    {
     "data": {
      "text/html": [
       "<div>\n",
       "<style scoped>\n",
       "    .dataframe tbody tr th:only-of-type {\n",
       "        vertical-align: middle;\n",
       "    }\n",
       "\n",
       "    .dataframe tbody tr th {\n",
       "        vertical-align: top;\n",
       "    }\n",
       "\n",
       "    .dataframe thead th {\n",
       "        text-align: right;\n",
       "    }\n",
       "</style>\n",
       "<table border=\"1\" class=\"dataframe\">\n",
       "  <thead>\n",
       "    <tr style=\"text-align: right;\">\n",
       "      <th></th>\n",
       "      <th>Unnamed: 0</th>\n",
       "      <th>user_ID</th>\n",
       "      <th>user</th>\n",
       "      <th>respiratory_rate</th>\n",
       "      <th>body_temp</th>\n",
       "      <th>heart_rate</th>\n",
       "      <th>pressure</th>\n",
       "      <th>gyroX</th>\n",
       "      <th>gyroY:</th>\n",
       "      <th>gyroZ</th>\n",
       "      <th>mgr</th>\n",
       "      <th>fall_accident</th>\n",
       "      <th>cardiac_arrest</th>\n",
       "      <th>walking_symmetry</th>\n",
       "    </tr>\n",
       "  </thead>\n",
       "  <tbody>\n",
       "    <tr>\n",
       "      <th>0</th>\n",
       "      <td>0</td>\n",
       "      <td>1</td>\n",
       "      <td>1</td>\n",
       "      <td>18</td>\n",
       "      <td>37.7</td>\n",
       "      <td>43</td>\n",
       "      <td>158743.085</td>\n",
       "      <td>0.00</td>\n",
       "      <td>0.00</td>\n",
       "      <td>0.00</td>\n",
       "      <td>7905850400</td>\n",
       "      <td>0</td>\n",
       "      <td>0</td>\n",
       "      <td>0</td>\n",
       "    </tr>\n",
       "    <tr>\n",
       "      <th>1</th>\n",
       "      <td>1</td>\n",
       "      <td>2</td>\n",
       "      <td>1</td>\n",
       "      <td>23</td>\n",
       "      <td>35.5</td>\n",
       "      <td>108</td>\n",
       "      <td>208412.088</td>\n",
       "      <td>1.49</td>\n",
       "      <td>5.68</td>\n",
       "      <td>0.77</td>\n",
       "      <td>5345941270</td>\n",
       "      <td>0</td>\n",
       "      <td>0</td>\n",
       "      <td>0</td>\n",
       "    </tr>\n",
       "    <tr>\n",
       "      <th>2</th>\n",
       "      <td>2</td>\n",
       "      <td>3</td>\n",
       "      <td>1</td>\n",
       "      <td>21</td>\n",
       "      <td>36.7</td>\n",
       "      <td>119</td>\n",
       "      <td>149244.192</td>\n",
       "      <td>5.21</td>\n",
       "      <td>2.86</td>\n",
       "      <td>2.35</td>\n",
       "      <td>5117941238</td>\n",
       "      <td>0</td>\n",
       "      <td>0</td>\n",
       "      <td>0</td>\n",
       "    </tr>\n",
       "    <tr>\n",
       "      <th>3</th>\n",
       "      <td>3</td>\n",
       "      <td>4</td>\n",
       "      <td>1</td>\n",
       "      <td>22</td>\n",
       "      <td>35.4</td>\n",
       "      <td>104</td>\n",
       "      <td>132396.222</td>\n",
       "      <td>3.85</td>\n",
       "      <td>6.21</td>\n",
       "      <td>5.82</td>\n",
       "      <td>7469344503</td>\n",
       "      <td>0</td>\n",
       "      <td>0</td>\n",
       "      <td>0</td>\n",
       "    </tr>\n",
       "    <tr>\n",
       "      <th>4</th>\n",
       "      <td>4</td>\n",
       "      <td>5</td>\n",
       "      <td>1</td>\n",
       "      <td>25</td>\n",
       "      <td>36.3</td>\n",
       "      <td>72</td>\n",
       "      <td>175302.606</td>\n",
       "      <td>0.00</td>\n",
       "      <td>0.00</td>\n",
       "      <td>0.00</td>\n",
       "      <td>8139834006</td>\n",
       "      <td>1</td>\n",
       "      <td>0</td>\n",
       "      <td>0</td>\n",
       "    </tr>\n",
       "  </tbody>\n",
       "</table>\n",
       "</div>"
      ],
      "text/plain": [
       "   Unnamed: 0  user_ID  user  respiratory_rate  body_temp  heart_rate  \\\n",
       "0           0        1     1                18       37.7          43   \n",
       "1           1        2     1                23       35.5         108   \n",
       "2           2        3     1                21       36.7         119   \n",
       "3           3        4     1                22       35.4         104   \n",
       "4           4        5     1                25       36.3          72   \n",
       "\n",
       "     pressure  gyroX  gyroY:  gyroZ         mgr  fall_accident  \\\n",
       "0  158743.085   0.00    0.00   0.00  7905850400              0   \n",
       "1  208412.088   1.49    5.68   0.77  5345941270              0   \n",
       "2  149244.192   5.21    2.86   2.35  5117941238              0   \n",
       "3  132396.222   3.85    6.21   5.82  7469344503              0   \n",
       "4  175302.606   0.00    0.00   0.00  8139834006              1   \n",
       "\n",
       "   cardiac_arrest  walking_symmetry  \n",
       "0               0                 0  \n",
       "1               0                 0  \n",
       "2               0                 0  \n",
       "3               0                 0  \n",
       "4               0                 0  "
      ]
     },
     "execution_count": 3,
     "metadata": {},
     "output_type": "execute_result"
    }
   ],
   "source": [
    "dataset.head()"
   ]
  },
  {
   "cell_type": "code",
   "execution_count": 6,
   "id": "009d88a2",
   "metadata": {},
   "outputs": [],
   "source": [
    "# Splitting into X and Y for training (Detecting Cardiac Arrest)\n",
    "\n",
    "X = dataset.iloc[:, :11].values\n",
    "y = dataset.iloc[:, 12:13].values\n"
   ]
  },
  {
   "cell_type": "code",
   "execution_count": 8,
   "id": "9c170bde",
   "metadata": {},
   "outputs": [
    {
     "name": "stdout",
     "output_type": "stream",
     "text": [
      "      Unnamed: 0  user_ID  user  respiratory_rate  body_temp  heart_rate  \\\n",
      "0              0        1     1                18       37.7          43   \n",
      "1              1        2     1                23       35.5         108   \n",
      "2              2        3     1                21       36.7         119   \n",
      "3              3        4     1                22       35.4         104   \n",
      "4              4        5     1                25       36.3          72   \n",
      "...          ...      ...   ...               ...        ...         ...   \n",
      "9995        9995     9996   100                22       36.0          65   \n",
      "9996        9996     9997   100                21       37.0         113   \n",
      "9997        9997     9998   100                25       36.7         100   \n",
      "9998        9998     9999   100                21       38.5          89   \n",
      "9999        9999    10000   100                21       36.0         113   \n",
      "\n",
      "        pressure  gyroX  gyroY:  gyroZ         mgr  \n",
      "0     158743.085   0.00    0.00   0.00  7905850400  \n",
      "1     208412.088   1.49    5.68   0.77  5345941270  \n",
      "2     149244.192   5.21    2.86   2.35  5117941238  \n",
      "3     132396.222   3.85    6.21   5.82  7469344503  \n",
      "4     175302.606   0.00    0.00   0.00  8139834006  \n",
      "...          ...    ...     ...    ...         ...  \n",
      "9995  116371.512   1.87    5.64   4.46  6319033940  \n",
      "9996  118365.603   2.30    6.87   3.98  6062755963  \n",
      "9997  143463.813   4.62    1.38   3.90  6217334905  \n",
      "9998  224053.430   4.13    3.78   1.56  5848537873  \n",
      "9999  139439.037   5.49    0.15   6.98  8471435411  \n",
      "\n",
      "[10000 rows x 11 columns]\n"
     ]
    }
   ],
   "source": [
    "print(X)"
   ]
  },
  {
   "cell_type": "code",
   "execution_count": 9,
   "id": "f0d17216",
   "metadata": {},
   "outputs": [
    {
     "name": "stdout",
     "output_type": "stream",
     "text": [
      "      cardiac_arrest\n",
      "0                  0\n",
      "1                  0\n",
      "2                  0\n",
      "3                  0\n",
      "4                  0\n",
      "...              ...\n",
      "9995               0\n",
      "9996               0\n",
      "9997               0\n",
      "9998               0\n",
      "9999               0\n",
      "\n",
      "[10000 rows x 1 columns]\n"
     ]
    }
   ],
   "source": [
    "print(y)"
   ]
  },
  {
   "cell_type": "code",
   "execution_count": 10,
   "id": "881d9e3e",
   "metadata": {},
   "outputs": [],
   "source": [
    "# Split training set and test set\n",
    "\n",
    "from sklearn.model_selection import train_test_split\n",
    "X_train, X_test, y_train, y_test = train_test_split(X, y, test_size = 0.2, random_state = 1)"
   ]
  },
  {
   "cell_type": "code",
   "execution_count": 11,
   "id": "3fb96e83",
   "metadata": {},
   "outputs": [],
   "source": [
    "# Feature Scaling\n",
    "\n",
    "from sklearn.preprocessing import StandardScaler\n",
    "sc = StandardScaler()\n",
    "X_train = sc.fit_transform(X_train)\n",
    "X_test = sc.transform(X_test)"
   ]
  },
  {
   "cell_type": "code",
   "execution_count": 12,
   "id": "24b013ec",
   "metadata": {},
   "outputs": [
    {
     "name": "stdout",
     "output_type": "stream",
     "text": [
      "[[-0.80531942 -0.80531942 -0.82084111 ...  1.78055196 -0.95196777\n",
      "   1.48920728]\n",
      " [ 0.04247882  0.04247882  0.04575177 ...  0.17723109 -0.97768156\n",
      "   0.86227755]\n",
      " [-0.84899177 -0.84899177 -0.85550482 ...  1.57960241  1.19513341\n",
      "  -0.24664585]\n",
      " ...\n",
      " [-1.42539753 -1.42539753 -1.41012426 ... -0.37431129  0.77942719\n",
      "   1.6178767 ]\n",
      " [ 0.06050233  0.06050233  0.04575177 ... -0.97715994 -0.98196719\n",
      "   1.33822055]\n",
      " [-1.65762353 -1.65762353 -1.65277027 ...  1.10074391 -0.84054136\n",
      "   0.74015406]]\n"
     ]
    }
   ],
   "source": [
    "print(X_train)"
   ]
  },
  {
   "cell_type": "code",
   "execution_count": null,
   "id": "acea7659",
   "metadata": {},
   "outputs": [],
   "source": [
    "# Building the ANN"
   ]
  },
  {
   "cell_type": "code",
   "execution_count": null,
   "id": "c8390da8",
   "metadata": {},
   "outputs": [],
   "source": [
    "ann = tf.keras.models.Sequential()"
   ]
  },
  {
   "cell_type": "code",
   "execution_count": null,
   "id": "49454979",
   "metadata": {},
   "outputs": [],
   "source": [
    "ann.add(tf.keras.layers.Dense(units = 6, activation = 'relu'))"
   ]
  },
  {
   "cell_type": "code",
   "execution_count": null,
   "id": "a868df19",
   "metadata": {},
   "outputs": [],
   "source": [
    "ann.add(tf.keras.layers.Dense(units = 6, activation = 'relu'))"
   ]
  },
  {
   "cell_type": "code",
   "execution_count": null,
   "id": "47d152bf",
   "metadata": {},
   "outputs": [],
   "source": [
    "ann.add(tf.keras.layers.Dense(units = 1, activation = 'sigmoid'))"
   ]
  },
  {
   "cell_type": "code",
   "execution_count": null,
   "id": "b9f11ff7",
   "metadata": {},
   "outputs": [],
   "source": [
    "# Training the ANN"
   ]
  },
  {
   "cell_type": "code",
   "execution_count": null,
   "id": "b5cf96a4",
   "metadata": {},
   "outputs": [],
   "source": [
    "ann.compile(optimizer = 'adam', loss = 'binary_crossentropy', metrics = ['accuracy'])"
   ]
  },
  {
   "cell_type": "code",
   "execution_count": null,
   "id": "bd939c06",
   "metadata": {},
   "outputs": [],
   "source": [
    "ann.fit(X_train, y_train, batch_size = 32, epochs = 100)"
   ]
  },
  {
   "cell_type": "code",
   "execution_count": null,
   "id": "70bf77f0",
   "metadata": {},
   "outputs": [],
   "source": [
    "# Making predictions and training the model"
   ]
  },
  {
   "cell_type": "code",
   "execution_count": null,
   "id": "3068040a",
   "metadata": {},
   "outputs": [],
   "source": []
  },
  {
   "cell_type": "code",
   "execution_count": null,
   "id": "1741f57d",
   "metadata": {},
   "outputs": [],
   "source": []
  },
  {
   "cell_type": "code",
   "execution_count": null,
   "id": "856292a7",
   "metadata": {},
   "outputs": [],
   "source": []
  },
  {
   "cell_type": "code",
   "execution_count": null,
   "id": "9620faf5",
   "metadata": {},
   "outputs": [],
   "source": []
  },
  {
   "cell_type": "code",
   "execution_count": null,
   "id": "5e49984e",
   "metadata": {},
   "outputs": [],
   "source": []
  }
 ],
 "metadata": {
  "kernelspec": {
   "display_name": "Python 3 (ipykernel)",
   "language": "python",
   "name": "python3"
  },
  "language_info": {
   "codemirror_mode": {
    "name": "ipython",
    "version": 3
   },
   "file_extension": ".py",
   "mimetype": "text/x-python",
   "name": "python",
   "nbconvert_exporter": "python",
   "pygments_lexer": "ipython3",
   "version": "3.9.12"
  }
 },
 "nbformat": 4,
 "nbformat_minor": 5
}
